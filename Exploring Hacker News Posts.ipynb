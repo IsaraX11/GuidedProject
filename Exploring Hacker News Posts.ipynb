{
 "cells": [
  {
   "cell_type": "markdown",
   "metadata": {},
   "source": [
    "# Exploring Hacker News Posts\n",
    "\n",
    "This project is part of my data engineer self learning through *Dataquest.io*. This guided projects, it will focus on the technology site **Hacker News**. The purpose is to estimate what time most people will be online by computed from the average of comments that occurred during each hour of a day. With this exploring, I will know that if I want to ask the question at Hacker News, what time will I get a higher rate of the answer."
   ]
  },
  {
   "cell_type": "markdown",
   "metadata": {},
   "source": [
    "### Read the CSV files to a list of lists\n",
    "First, I begin to read the information from hacker_news.csv and assign the result to the variable **hn** as the list of lists. I'll display the first five rows (lists) of hn."
   ]
  },
  {
   "cell_type": "code",
   "execution_count": 1,
   "metadata": {
    "scrolled": true
   },
   "outputs": [
    {
     "name": "stdout",
     "output_type": "stream",
     "text": [
      "['id', 'title', 'url', 'num_points', 'num_comments', 'author', 'created_at']\n",
      "\n",
      "['12579008', 'You have two days to comment if you want stem cells to be classified as your own', 'http://www.regulations.gov/document?D=FDA-2015-D-3719-0018', '1', '0', 'altstar', '9/26/2016 3:26']\n",
      "\n",
      "['12579005', 'SQLAR  the SQLite Archiver', 'https://www.sqlite.org/sqlar/doc/trunk/README.md', '1', '0', 'blacksqr', '9/26/2016 3:24']\n",
      "\n",
      "['12578997', 'What if we just printed a flatscreen television on the side of our boxes?', 'https://medium.com/vanmoof/our-secrets-out-f21c1f03fdc8#.ietxmez43', '1', '0', 'pavel_lishin', '9/26/2016 3:19']\n",
      "\n",
      "['12578989', 'algorithmic music', 'http://cacm.acm.org/magazines/2011/7/109891-algorithmic-composition/fulltext', '1', '0', 'poindontcare', '9/26/2016 3:16']\n"
     ]
    }
   ],
   "source": [
    "opened_csv = open('Dataset\\Guided Project Hacker New Posts\\hacker_news.csv')\n",
    "import csv\n",
    "read_csv = csv.reader(opened_csv)\n",
    "hn = list(read_csv)\n",
    "opened_csv.close()\n",
    "print(*hn[0:5], sep='\\n\\n')"
   ]
  },
  {
   "cell_type": "markdown",
   "metadata": {},
   "source": [
    "As we saw from above, I will seperate the header which is the first row from hn list."
   ]
  },
  {
   "cell_type": "code",
   "execution_count": 2,
   "metadata": {
    "scrolled": true
   },
   "outputs": [
    {
     "name": "stdout",
     "output_type": "stream",
     "text": [
      "['12579008', 'You have two days to comment if you want stem cells to be classified as your own', 'http://www.regulations.gov/document?D=FDA-2015-D-3719-0018', '1', '0', 'altstar', '9/26/2016 3:26']\n",
      "\n",
      "['12579005', 'SQLAR  the SQLite Archiver', 'https://www.sqlite.org/sqlar/doc/trunk/README.md', '1', '0', 'blacksqr', '9/26/2016 3:24']\n",
      "\n",
      "['12578997', 'What if we just printed a flatscreen television on the side of our boxes?', 'https://medium.com/vanmoof/our-secrets-out-f21c1f03fdc8#.ietxmez43', '1', '0', 'pavel_lishin', '9/26/2016 3:19']\n",
      "\n",
      "['12578989', 'algorithmic music', 'http://cacm.acm.org/magazines/2011/7/109891-algorithmic-composition/fulltext', '1', '0', 'poindontcare', '9/26/2016 3:16']\n",
      "\n",
      "['12578979', 'How the Data Vault Enables the Next-Gen Data Warehouse and Data Lake', 'https://www.talend.com/blog/2016/05/12/talend-and-Â\\x93the-data-vaultÂ\\x94', '1', '0', 'markgainor1', '9/26/2016 3:14']\n"
     ]
    }
   ],
   "source": [
    "headers = hn[0]\n",
    "hn.remove(hn[0])\n",
    "print(*hn[0:5], sep='\\n\\n')"
   ]
  },
  {
   "cell_type": "markdown",
   "metadata": {},
   "source": [
    "### Filtered for concerned data\n",
    "Now the hn list is ready to be filtered out unwanted data. As I inform at the beginning, I only consider with post titles that beginning with **Ask HN** or **Show HN**. So the next step, I'll create new lists of lists.\n",
    "- ask_posts : the list contain Ask HN title\n",
    "- show_posts : the list contain Show HN title\n",
    "- other_posts : the list that I won't focus"
   ]
  },
  {
   "cell_type": "code",
   "execution_count": 3,
   "metadata": {},
   "outputs": [
    {
     "name": "stdout",
     "output_type": "stream",
     "text": [
      "ask hn : 9139\n",
      "show hn : 10158\n",
      "other : 273822\n"
     ]
    }
   ],
   "source": [
    "ask_posts = []\n",
    "show_posts = []\n",
    "other_posts = []\n",
    "\n",
    "for row in hn:\n",
    "    title = row[1]\n",
    "    title_lower = title.lower()\n",
    "    if title_lower.startswith('ask hn'):\n",
    "        ask_posts.append(row)\n",
    "    elif title_lower.startswith('show hn'):\n",
    "        show_posts.append(row)\n",
    "    else:\n",
    "        other_posts.append(row)\n",
    "\n",
    "print(\"ask hn : \"+ str(len(ask_posts)))\n",
    "print(\"show hn : \"+ str(len(show_posts)))\n",
    "print(\"other : \"+ str(len(other_posts)))"
   ]
  },
  {
   "cell_type": "markdown",
   "metadata": {},
   "source": [
    "### Find average comment\n",
    "\n",
    "Next I will check which type of title (ask or show) is got more attention from the web member.\n",
    "By first, I will create a function to calculate the average: **find_avg**."
   ]
  },
  {
   "cell_type": "code",
   "execution_count": 4,
   "metadata": {},
   "outputs": [
    {
     "name": "stdout",
     "output_type": "stream",
     "text": [
      "Ask posts average comment: 10.39 comments\n",
      "Show posts average comment: 4.89 comments\n"
     ]
    }
   ],
   "source": [
    "def find_avg(main_list, cal_index):\n",
    "    total = 0 \n",
    "    for row in main_list:\n",
    "        total += int(row[cal_index])\n",
    "    avg = total/len(main_list)\n",
    "    return avg\n",
    "\n",
    "avg_ask_comments = find_avg(ask_posts, 4)\n",
    "print('Ask posts average comment: '+ format(avg_ask_comments,'.2f')+' comments')\n",
    "avg_show_comments = find_avg(show_posts, 4)\n",
    "print('Show posts average comment: '+ format(avg_show_comments,'.2f')+' comments')\n"
   ]
  },
  {
   "cell_type": "markdown",
   "metadata": {},
   "source": [
    "The ask posts type is recieved more attention from the member as the average comment for ask posts is around 2 time of show posts type. Since ask posts are more like to receive comments. Next, I'll focus on these types."
   ]
  },
  {
   "cell_type": "markdown",
   "metadata": {},
   "source": [
    "### The average of comment given for entire day.\n",
    "In the next step, I'll calculate the amount of ask posts and comments by hour created by using the datetime (**dt**) module. "
   ]
  },
  {
   "cell_type": "code",
   "execution_count": 5,
   "metadata": {},
   "outputs": [],
   "source": [
    "import datetime as dt\n",
    "result_list = []\n",
    "for row in ask_posts:\n",
    "    result_list.append([dt.datetime.strptime(row[6], \"%m/%d/%Y %H:%M\"), int(row[4])])"
   ]
  },
  {
   "cell_type": "markdown",
   "metadata": {},
   "source": [
    "from above I create result_list, a list of lists that contain datetime and number of comments. Next I'll loop through this list and find sum for a comment for each datetime."
   ]
  },
  {
   "cell_type": "code",
   "execution_count": 6,
   "metadata": {},
   "outputs": [
    {
     "name": "stdout",
     "output_type": "stream",
     "text": [
      "[datetime.datetime(2016, 9, 26, 2, 53), 7]\n",
      "[datetime.datetime(2016, 9, 26, 1, 17), 3]\n",
      "[datetime.datetime(2016, 9, 25, 22, 57), 0]\n",
      "[datetime.datetime(2016, 9, 25, 22, 48), 3]\n"
     ]
    }
   ],
   "source": [
    "print(*result_list[0:4], sep='\\n')"
   ]
  },
  {
   "cell_type": "code",
   "execution_count": 7,
   "metadata": {},
   "outputs": [],
   "source": [
    "counts_by_hour = {}\n",
    "comments_by_hour = {}\n",
    "for element in result_list:\n",
    "    hour = element[0].strftime('%H')\n",
    "    if hour in counts_by_hour:\n",
    "        counts_by_hour[hour] += 1\n",
    "        comments_by_hour[hour] += element[1]\n",
    "    else:\n",
    "        counts_by_hour[hour] = 1\n",
    "        comments_by_hour[hour] = element[1]"
   ]
  },
  {
   "cell_type": "markdown",
   "metadata": {},
   "source": [
    "From above, I know the posting frequency for each hour (from counts_by_hour) and sum of comments for each hour (from comments_by_hour). But both is in the form of dictionary. Next I will change them to a lists of list instead."
   ]
  },
  {
   "cell_type": "code",
   "execution_count": 8,
   "metadata": {},
   "outputs": [],
   "source": [
    "def dict_to_list(dict_):\n",
    "    List = []\n",
    "    for key in dict_:\n",
    "        List.append([key, dict_[key]])\n",
    "    return List\n",
    "\n",
    "counts_by_hour_list = dict_to_list(counts_by_hour)\n",
    "comments_by_hour_list = dict_to_list(comments_by_hour)"
   ]
  },
  {
   "cell_type": "markdown",
   "metadata": {},
   "source": [
    "Right now, I have the lists of *how many post by hour* (counts_by_hour_list) and the lists of *how many comment by hour* (comments_by_hour_list). So, I can find the average comment per post by hour (**avg_by_hour**)."
   ]
  },
  {
   "cell_type": "code",
   "execution_count": 9,
   "metadata": {},
   "outputs": [],
   "source": [
    "avg_by_hour = []\n",
    "for element in comments_by_hour_list:\n",
    "    hour = element[0]\n",
    "    comment = element[1]\n",
    "    for element2 in counts_by_hour_list:\n",
    "        if hour == element2[0]:\n",
    "            avg_comment = comment/element2[1]\n",
    "            avg_by_hour.append([avg_comment, hour])"
   ]
  },
  {
   "cell_type": "markdown",
   "metadata": {},
   "source": [
    "Next, I will sorted the average comment in descending order. Remark that the time zone in this data set is GMT -4 which is different from my timezone -11 hours as I live in Thailand (GMT+7)."
   ]
  },
  {
   "cell_type": "code",
   "execution_count": 10,
   "metadata": {},
   "outputs": [],
   "source": [
    "avg_by_hour.sort(reverse=True)"
   ]
  },
  {
   "cell_type": "code",
   "execution_count": 11,
   "metadata": {},
   "outputs": [
    {
     "name": "stdout",
     "output_type": "stream",
     "text": [
      "Top 5 Hours for Ask Post Comments\n",
      "At 02:00 : 28.68 average comments per post.\n",
      "At 00:00 : 16.32 average comments per post.\n",
      "At 23:00 : 12.38 average comments per post.\n",
      "At 13:00 : 11.14 average comments per post.\n",
      "At 21:00 : 10.68 average comments per post.\n"
     ]
    }
   ],
   "source": [
    "print(\"Top 5 Hours for Ask Post Comments\")\n",
    "for element in avg_by_hour[0:5]:\n",
    "    avg_comment = format(element[0], '.2f')\n",
    "    dt_hour = dt.datetime.strptime(element[1], '%H') + dt.timedelta(hours=11)\n",
    "    show_str = 'At {time} : {avg} average comments per post.'\n",
    "    print(show_str.format(time=dt_hour.strftime('%H:%M'), avg = avg_comment))"
   ]
  }
 ],
 "metadata": {
  "kernelspec": {
   "display_name": "Python 3",
   "language": "python",
   "name": "python3"
  },
  "language_info": {
   "codemirror_mode": {
    "name": "ipython",
    "version": 3
   },
   "file_extension": ".py",
   "mimetype": "text/x-python",
   "name": "python",
   "nbconvert_exporter": "python",
   "pygments_lexer": "ipython3",
   "version": "3.8.3"
  }
 },
 "nbformat": 4,
 "nbformat_minor": 4
}
